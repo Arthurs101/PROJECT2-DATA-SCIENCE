{
 "cells": [
  {
   "cell_type": "code",
   "execution_count": 1,
   "id": "00c0daf5",
   "metadata": {
    "_cell_guid": "b1076dfc-b9ad-4769-8c92-a6c4dae69d19",
    "_uuid": "8f2839f25d086af736a60e9eeb907d3b93b6e0e5",
    "execution": {
     "iopub.execute_input": "2024-10-28T14:18:07.852381Z",
     "iopub.status.busy": "2024-10-28T14:18:07.851613Z",
     "iopub.status.idle": "2024-10-28T14:18:14.958812Z",
     "shell.execute_reply": "2024-10-28T14:18:14.958048Z"
    },
    "papermill": {
     "duration": 7.120493,
     "end_time": "2024-10-28T14:18:14.961023",
     "exception": false,
     "start_time": "2024-10-28T14:18:07.840530",
     "status": "completed"
    },
    "tags": []
   },
   "outputs": [],
   "source": [
    "#in house cnn\n",
    "import seaborn as sns\n",
    "\n",
    "import matplotlib.pyplot as plt\n",
    "import os\n",
    "import time\n",
    "import numpy as np\n",
    "import glob\n",
    "import json\n",
    "import collections\n",
    "import torch\n",
    "import torch.nn as nn\n",
    "\n",
    "import pydicom as dicom\n",
    "import matplotlib.patches as patches\n",
    "\n",
    "from matplotlib import animation, rc\n",
    "import pandas as pd\n",
    "import pydicom\n",
    "from pydicom.pixel_data_handlers.util import apply_voi_lut\n",
    "import matplotlib.pyplot as plt\n",
    "\n",
    "from sklearn.model_selection import train_test_split\n",
    "from torch.utils.data import Dataset, DataLoader\n",
    "import torchvision.transforms as transforms\n",
    "import torch\n",
    "import torch.optim.lr_scheduler as lr_scheduler\n",
    "import torch.optim as optim\n",
    "from copy import deepcopy\n",
    "from tqdm import tqdm"
   ]
  },
  {
   "cell_type": "code",
   "execution_count": 2,
   "id": "5f67dd22",
   "metadata": {
    "execution": {
     "iopub.execute_input": "2024-10-28T14:18:14.975804Z",
     "iopub.status.busy": "2024-10-28T14:18:14.975368Z",
     "iopub.status.idle": "2024-10-28T14:18:15.128084Z",
     "shell.execute_reply": "2024-10-28T14:18:15.127311Z"
    },
    "papermill": {
     "duration": 0.162167,
     "end_time": "2024-10-28T14:18:15.130138",
     "exception": false,
     "start_time": "2024-10-28T14:18:14.967971",
     "status": "completed"
    },
    "tags": []
   },
   "outputs": [],
   "source": [
    "root = '/kaggle/input/rsna-2024-lumbar-spine-degenerative-classification/'\n",
    "train  = pd.read_csv(root + 'train.csv')\n",
    "label = pd.read_csv(root + 'train_label_coordinates.csv')\n",
    "train_desc  = pd.read_csv(root + 'train_series_descriptions.csv')\n",
    "test_desc   = pd.read_csv(root + 'test_series_descriptions.csv')\n",
    "sub         = pd.read_csv(root + 'sample_submission.csv')\n",
    "conditions = {}"
   ]
  },
  {
   "cell_type": "code",
   "execution_count": 3,
   "id": "afa0c832",
   "metadata": {
    "execution": {
     "iopub.execute_input": "2024-10-28T14:18:15.144849Z",
     "iopub.status.busy": "2024-10-28T14:18:15.144089Z",
     "iopub.status.idle": "2024-10-28T14:18:15.149984Z",
     "shell.execute_reply": "2024-10-28T14:18:15.149171Z"
    },
    "papermill": {
     "duration": 0.015107,
     "end_time": "2024-10-28T14:18:15.151891",
     "exception": false,
     "start_time": "2024-10-28T14:18:15.136784",
     "status": "completed"
    },
    "tags": []
   },
   "outputs": [],
   "source": [
    "def generate_image_paths(df, data_dir):\n",
    "    image_paths = []\n",
    "    for study_id, series_id in zip(df['study_id'], df['series_id']):\n",
    "        study_dir = os.path.join(data_dir, str(study_id))\n",
    "        series_dir = os.path.join(study_dir, str(series_id))\n",
    "        images = os.listdir(series_dir)\n",
    "        image_paths.extend([os.path.join(series_dir, img) for img in images])\n",
    "    return image_paths"
   ]
  },
  {
   "cell_type": "code",
   "execution_count": 4,
   "id": "d6fcac81",
   "metadata": {
    "execution": {
     "iopub.execute_input": "2024-10-28T14:18:15.166823Z",
     "iopub.status.busy": "2024-10-28T14:18:15.166558Z",
     "iopub.status.idle": "2024-10-28T14:18:15.173372Z",
     "shell.execute_reply": "2024-10-28T14:18:15.172552Z"
    },
    "papermill": {
     "duration": 0.016002,
     "end_time": "2024-10-28T14:18:15.175307",
     "exception": false,
     "start_time": "2024-10-28T14:18:15.159305",
     "status": "completed"
    },
    "tags": []
   },
   "outputs": [],
   "source": [
    "# Function to generate image paths based on directory structure\n",
    "def reshape_row(row):\n",
    "    data = {'study_id': [], 'condition': [], 'level': [], 'severity': []}\n",
    "    \n",
    "    for column, value in row.items():\n",
    "        if column not in ['study_id', 'series_id', 'instance_number', 'x', 'y', 'series_description']:\n",
    "            parts = column.split('_')\n",
    "            condition = ' '.join([word.capitalize() for word in parts[:-2]])\n",
    "            level = parts[-2].capitalize() + '/' + parts[-1].capitalize()\n",
    "            data['study_id'].append(row['study_id'])\n",
    "            data['condition'].append(condition)\n",
    "            data['level'].append(level)\n",
    "            data['severity'].append(value)\n",
    "    \n",
    "    return pd.DataFrame(data)\n",
    "\n"
   ]
  },
  {
   "cell_type": "code",
   "execution_count": 5,
   "id": "19fddae7",
   "metadata": {
    "execution": {
     "iopub.execute_input": "2024-10-28T14:18:15.189165Z",
     "iopub.status.busy": "2024-10-28T14:18:15.188873Z",
     "iopub.status.idle": "2024-10-28T14:18:15.193865Z",
     "shell.execute_reply": "2024-10-28T14:18:15.193088Z"
    },
    "papermill": {
     "duration": 0.014016,
     "end_time": "2024-10-28T14:18:15.195702",
     "exception": false,
     "start_time": "2024-10-28T14:18:15.181686",
     "status": "completed"
    },
    "tags": []
   },
   "outputs": [],
   "source": [
    "def reshape_row_2(row):\n",
    "    # Create dictionary to store levels and severities\n",
    "    conditions = {}\n",
    "\n",
    "    # Add level-severity pair directly from the row's values\n",
    "    level = row['level']\n",
    "    severity = row['severity']\n",
    "    \n",
    "    # Populate the conditions dictionary with level and severity\n",
    "    conditions[level] = severity\n",
    "    \n",
    "    # Return a dictionary with the original row values and new 'conditions' column\n",
    "    return {\n",
    "        'study_id': row['study_id'],\n",
    "        'series_id': row['series_id'],\n",
    "        'instance_number': row['instance_number'],\n",
    "        'conditions': conditions\n",
    "    }"
   ]
  },
  {
   "cell_type": "code",
   "execution_count": 6,
   "id": "823b7dae",
   "metadata": {
    "execution": {
     "iopub.execute_input": "2024-10-28T14:18:15.209357Z",
     "iopub.status.busy": "2024-10-28T14:18:15.209102Z",
     "iopub.status.idle": "2024-10-28T14:18:57.661508Z",
     "shell.execute_reply": "2024-10-28T14:18:57.660570Z"
    },
    "papermill": {
     "duration": 42.461795,
     "end_time": "2024-10-28T14:18:57.663821",
     "exception": false,
     "start_time": "2024-10-28T14:18:15.202026",
     "status": "completed"
    },
    "tags": []
   },
   "outputs": [],
   "source": [
    "train_image_paths = generate_image_paths(train_desc, f'{root}/train_images')\n",
    "test_image_paths = generate_image_paths(test_desc, f'{root}/test_images')"
   ]
  },
  {
   "cell_type": "code",
   "execution_count": 7,
   "id": "3cb855d4",
   "metadata": {
    "execution": {
     "iopub.execute_input": "2024-10-28T14:18:57.678281Z",
     "iopub.status.busy": "2024-10-28T14:18:57.677994Z",
     "iopub.status.idle": "2024-10-28T14:18:58.911178Z",
     "shell.execute_reply": "2024-10-28T14:18:58.910386Z"
    },
    "papermill": {
     "duration": 1.242827,
     "end_time": "2024-10-28T14:18:58.913511",
     "exception": false,
     "start_time": "2024-10-28T14:18:57.670684",
     "status": "completed"
    },
    "tags": []
   },
   "outputs": [],
   "source": [
    "train = pd.concat([reshape_row(row) for _, row in train.iterrows()], ignore_index=True)"
   ]
  },
  {
   "cell_type": "code",
   "execution_count": 8,
   "id": "dc77122e",
   "metadata": {
    "execution": {
     "iopub.execute_input": "2024-10-28T14:18:58.927988Z",
     "iopub.status.busy": "2024-10-28T14:18:58.927679Z",
     "iopub.status.idle": "2024-10-28T14:18:59.010758Z",
     "shell.execute_reply": "2024-10-28T14:18:59.010017Z"
    },
    "papermill": {
     "duration": 0.092487,
     "end_time": "2024-10-28T14:18:59.012852",
     "exception": false,
     "start_time": "2024-10-28T14:18:58.920365",
     "status": "completed"
    },
    "tags": []
   },
   "outputs": [],
   "source": [
    "#join the labels with the train dataset\n",
    "train = pd.merge(train, label, on=['study_id', 'condition', 'level'], how='inner')\n",
    "train = pd.merge(train, train_desc, on=['series_id','study_id'], how='inner')\n"
   ]
  },
  {
   "cell_type": "code",
   "execution_count": 9,
   "id": "82aaeed1",
   "metadata": {
    "execution": {
     "iopub.execute_input": "2024-10-28T14:18:59.027244Z",
     "iopub.status.busy": "2024-10-28T14:18:59.026958Z",
     "iopub.status.idle": "2024-10-28T14:18:59.068643Z",
     "shell.execute_reply": "2024-10-28T14:18:59.067790Z"
    },
    "papermill": {
     "duration": 0.051205,
     "end_time": "2024-10-28T14:18:59.070654",
     "exception": false,
     "start_time": "2024-10-28T14:18:59.019449",
     "status": "completed"
    },
    "tags": []
   },
   "outputs": [
    {
     "data": {
      "text/html": [
       "<div>\n",
       "<style scoped>\n",
       "    .dataframe tbody tr th:only-of-type {\n",
       "        vertical-align: middle;\n",
       "    }\n",
       "\n",
       "    .dataframe tbody tr th {\n",
       "        vertical-align: top;\n",
       "    }\n",
       "\n",
       "    .dataframe thead th {\n",
       "        text-align: right;\n",
       "    }\n",
       "</style>\n",
       "<table border=\"1\" class=\"dataframe\">\n",
       "  <thead>\n",
       "    <tr style=\"text-align: right;\">\n",
       "      <th></th>\n",
       "      <th>study_id</th>\n",
       "      <th>condition</th>\n",
       "      <th>level</th>\n",
       "      <th>severity</th>\n",
       "      <th>series_id</th>\n",
       "      <th>instance_number</th>\n",
       "      <th>x</th>\n",
       "      <th>y</th>\n",
       "      <th>series_description</th>\n",
       "    </tr>\n",
       "  </thead>\n",
       "  <tbody>\n",
       "    <tr>\n",
       "      <th>0</th>\n",
       "      <td>4003253</td>\n",
       "      <td>Spinal Canal Stenosis</td>\n",
       "      <td>L1/L2</td>\n",
       "      <td>0.0</td>\n",
       "      <td>702807833</td>\n",
       "      <td>8</td>\n",
       "      <td>322.831858</td>\n",
       "      <td>227.964602</td>\n",
       "      <td>Sagittal T2/STIR</td>\n",
       "    </tr>\n",
       "    <tr>\n",
       "      <th>1</th>\n",
       "      <td>4003253</td>\n",
       "      <td>Spinal Canal Stenosis</td>\n",
       "      <td>L2/L3</td>\n",
       "      <td>0.0</td>\n",
       "      <td>702807833</td>\n",
       "      <td>8</td>\n",
       "      <td>320.571429</td>\n",
       "      <td>295.714286</td>\n",
       "      <td>Sagittal T2/STIR</td>\n",
       "    </tr>\n",
       "    <tr>\n",
       "      <th>2</th>\n",
       "      <td>4003253</td>\n",
       "      <td>Spinal Canal Stenosis</td>\n",
       "      <td>L3/L4</td>\n",
       "      <td>0.0</td>\n",
       "      <td>702807833</td>\n",
       "      <td>8</td>\n",
       "      <td>323.030303</td>\n",
       "      <td>371.818182</td>\n",
       "      <td>Sagittal T2/STIR</td>\n",
       "    </tr>\n",
       "    <tr>\n",
       "      <th>3</th>\n",
       "      <td>4003253</td>\n",
       "      <td>Spinal Canal Stenosis</td>\n",
       "      <td>L4/L5</td>\n",
       "      <td>0.0</td>\n",
       "      <td>702807833</td>\n",
       "      <td>8</td>\n",
       "      <td>335.292035</td>\n",
       "      <td>427.327434</td>\n",
       "      <td>Sagittal T2/STIR</td>\n",
       "    </tr>\n",
       "    <tr>\n",
       "      <th>4</th>\n",
       "      <td>4003253</td>\n",
       "      <td>Spinal Canal Stenosis</td>\n",
       "      <td>L5/S1</td>\n",
       "      <td>0.0</td>\n",
       "      <td>702807833</td>\n",
       "      <td>8</td>\n",
       "      <td>353.415929</td>\n",
       "      <td>483.964602</td>\n",
       "      <td>Sagittal T2/STIR</td>\n",
       "    </tr>\n",
       "  </tbody>\n",
       "</table>\n",
       "</div>"
      ],
      "text/plain": [
       "   study_id              condition  level  severity  series_id  \\\n",
       "0   4003253  Spinal Canal Stenosis  L1/L2       0.0  702807833   \n",
       "1   4003253  Spinal Canal Stenosis  L2/L3       0.0  702807833   \n",
       "2   4003253  Spinal Canal Stenosis  L3/L4       0.0  702807833   \n",
       "3   4003253  Spinal Canal Stenosis  L4/L5       0.0  702807833   \n",
       "4   4003253  Spinal Canal Stenosis  L5/S1       0.0  702807833   \n",
       "\n",
       "   instance_number           x           y series_description  \n",
       "0                8  322.831858  227.964602   Sagittal T2/STIR  \n",
       "1                8  320.571429  295.714286   Sagittal T2/STIR  \n",
       "2                8  323.030303  371.818182   Sagittal T2/STIR  \n",
       "3                8  335.292035  427.327434   Sagittal T2/STIR  \n",
       "4                8  353.415929  483.964602   Sagittal T2/STIR  "
      ]
     },
     "execution_count": 9,
     "metadata": {},
     "output_type": "execute_result"
    }
   ],
   "source": [
    "train[\"severity\"] = train[\"severity\"].map({'Normal/Mild':0, 'Severe':2, 'Moderate':1})\n",
    "train = train.dropna()\n",
    "train.head()"
   ]
  },
  {
   "cell_type": "code",
   "execution_count": 10,
   "id": "82adbbb3",
   "metadata": {
    "execution": {
     "iopub.execute_input": "2024-10-28T14:18:59.086060Z",
     "iopub.status.busy": "2024-10-28T14:18:59.085443Z",
     "iopub.status.idle": "2024-10-28T14:18:59.199462Z",
     "shell.execute_reply": "2024-10-28T14:18:59.198561Z"
    },
    "papermill": {
     "duration": 0.123753,
     "end_time": "2024-10-28T14:18:59.201486",
     "exception": false,
     "start_time": "2024-10-28T14:18:59.077733",
     "status": "completed"
    },
    "tags": []
   },
   "outputs": [
    {
     "data": {
      "text/html": [
       "<div>\n",
       "<style scoped>\n",
       "    .dataframe tbody tr th:only-of-type {\n",
       "        vertical-align: middle;\n",
       "    }\n",
       "\n",
       "    .dataframe tbody tr th {\n",
       "        vertical-align: top;\n",
       "    }\n",
       "\n",
       "    .dataframe thead th {\n",
       "        text-align: right;\n",
       "    }\n",
       "</style>\n",
       "<table border=\"1\" class=\"dataframe\">\n",
       "  <thead>\n",
       "    <tr style=\"text-align: right;\">\n",
       "      <th></th>\n",
       "      <th>study_id</th>\n",
       "      <th>condition</th>\n",
       "      <th>level</th>\n",
       "      <th>severity</th>\n",
       "      <th>series_id</th>\n",
       "      <th>instance_number</th>\n",
       "      <th>x</th>\n",
       "      <th>y</th>\n",
       "      <th>series_description</th>\n",
       "      <th>image_path</th>\n",
       "    </tr>\n",
       "  </thead>\n",
       "  <tbody>\n",
       "    <tr>\n",
       "      <th>0</th>\n",
       "      <td>4003253</td>\n",
       "      <td>Spinal Canal Stenosis</td>\n",
       "      <td>L1/L2</td>\n",
       "      <td>0.0</td>\n",
       "      <td>702807833</td>\n",
       "      <td>8</td>\n",
       "      <td>322.831858</td>\n",
       "      <td>227.964602</td>\n",
       "      <td>Sagittal T2/STIR</td>\n",
       "      <td>/kaggle/input/rsna-2024-lumbar-spine-degenerat...</td>\n",
       "    </tr>\n",
       "    <tr>\n",
       "      <th>1</th>\n",
       "      <td>4003253</td>\n",
       "      <td>Spinal Canal Stenosis</td>\n",
       "      <td>L2/L3</td>\n",
       "      <td>0.0</td>\n",
       "      <td>702807833</td>\n",
       "      <td>8</td>\n",
       "      <td>320.571429</td>\n",
       "      <td>295.714286</td>\n",
       "      <td>Sagittal T2/STIR</td>\n",
       "      <td>/kaggle/input/rsna-2024-lumbar-spine-degenerat...</td>\n",
       "    </tr>\n",
       "  </tbody>\n",
       "</table>\n",
       "</div>"
      ],
      "text/plain": [
       "   study_id              condition  level  severity  series_id  \\\n",
       "0   4003253  Spinal Canal Stenosis  L1/L2       0.0  702807833   \n",
       "1   4003253  Spinal Canal Stenosis  L2/L3       0.0  702807833   \n",
       "\n",
       "   instance_number           x           y series_description  \\\n",
       "0                8  322.831858  227.964602   Sagittal T2/STIR   \n",
       "1                8  320.571429  295.714286   Sagittal T2/STIR   \n",
       "\n",
       "                                          image_path  \n",
       "0  /kaggle/input/rsna-2024-lumbar-spine-degenerat...  \n",
       "1  /kaggle/input/rsna-2024-lumbar-spine-degenerat...  "
      ]
     },
     "execution_count": 10,
     "metadata": {},
     "output_type": "execute_result"
    }
   ],
   "source": [
    "train['image_path'] = (\n",
    "    f'{root}/train_images/' + \n",
    "    train['study_id'].astype(str) + '/' +\n",
    "    train['series_id'].astype(str) + '/' +\n",
    "    train['instance_number'].astype(str) + '.dcm'\n",
    ")\n",
    "train.head(2)"
   ]
  },
  {
   "cell_type": "code",
   "execution_count": 11,
   "id": "9b7ad306",
   "metadata": {
    "execution": {
     "iopub.execute_input": "2024-10-28T14:18:59.216603Z",
     "iopub.status.busy": "2024-10-28T14:18:59.216286Z",
     "iopub.status.idle": "2024-10-28T14:19:16.442485Z",
     "shell.execute_reply": "2024-10-28T14:19:16.441580Z"
    },
    "papermill": {
     "duration": 17.236106,
     "end_time": "2024-10-28T14:19:16.444634",
     "exception": false,
     "start_time": "2024-10-28T14:18:59.208528",
     "status": "completed"
    },
    "tags": []
   },
   "outputs": [
    {
     "data": {
      "text/html": [
       "<div>\n",
       "<style scoped>\n",
       "    .dataframe tbody tr th:only-of-type {\n",
       "        vertical-align: middle;\n",
       "    }\n",
       "\n",
       "    .dataframe tbody tr th {\n",
       "        vertical-align: top;\n",
       "    }\n",
       "\n",
       "    .dataframe thead th {\n",
       "        text-align: right;\n",
       "    }\n",
       "</style>\n",
       "<table border=\"1\" class=\"dataframe\">\n",
       "  <thead>\n",
       "    <tr style=\"text-align: right;\">\n",
       "      <th></th>\n",
       "      <th>study_id</th>\n",
       "      <th>condition</th>\n",
       "      <th>level</th>\n",
       "      <th>severity</th>\n",
       "      <th>series_id</th>\n",
       "      <th>instance_number</th>\n",
       "      <th>x</th>\n",
       "      <th>y</th>\n",
       "      <th>series_description</th>\n",
       "      <th>image_path</th>\n",
       "      <th>study_id_exists</th>\n",
       "      <th>series_id_exists</th>\n",
       "      <th>image_exists</th>\n",
       "    </tr>\n",
       "  </thead>\n",
       "  <tbody>\n",
       "    <tr>\n",
       "      <th>0</th>\n",
       "      <td>4003253</td>\n",
       "      <td>Spinal Canal Stenosis</td>\n",
       "      <td>L1/L2</td>\n",
       "      <td>0.0</td>\n",
       "      <td>702807833</td>\n",
       "      <td>8</td>\n",
       "      <td>322.831858</td>\n",
       "      <td>227.964602</td>\n",
       "      <td>Sagittal T2/STIR</td>\n",
       "      <td>/kaggle/input/rsna-2024-lumbar-spine-degenerat...</td>\n",
       "      <td>True</td>\n",
       "      <td>True</td>\n",
       "      <td>True</td>\n",
       "    </tr>\n",
       "    <tr>\n",
       "      <th>1</th>\n",
       "      <td>4003253</td>\n",
       "      <td>Spinal Canal Stenosis</td>\n",
       "      <td>L2/L3</td>\n",
       "      <td>0.0</td>\n",
       "      <td>702807833</td>\n",
       "      <td>8</td>\n",
       "      <td>320.571429</td>\n",
       "      <td>295.714286</td>\n",
       "      <td>Sagittal T2/STIR</td>\n",
       "      <td>/kaggle/input/rsna-2024-lumbar-spine-degenerat...</td>\n",
       "      <td>True</td>\n",
       "      <td>True</td>\n",
       "      <td>True</td>\n",
       "    </tr>\n",
       "    <tr>\n",
       "      <th>2</th>\n",
       "      <td>4003253</td>\n",
       "      <td>Spinal Canal Stenosis</td>\n",
       "      <td>L3/L4</td>\n",
       "      <td>0.0</td>\n",
       "      <td>702807833</td>\n",
       "      <td>8</td>\n",
       "      <td>323.030303</td>\n",
       "      <td>371.818182</td>\n",
       "      <td>Sagittal T2/STIR</td>\n",
       "      <td>/kaggle/input/rsna-2024-lumbar-spine-degenerat...</td>\n",
       "      <td>True</td>\n",
       "      <td>True</td>\n",
       "      <td>True</td>\n",
       "    </tr>\n",
       "    <tr>\n",
       "      <th>3</th>\n",
       "      <td>4003253</td>\n",
       "      <td>Spinal Canal Stenosis</td>\n",
       "      <td>L4/L5</td>\n",
       "      <td>0.0</td>\n",
       "      <td>702807833</td>\n",
       "      <td>8</td>\n",
       "      <td>335.292035</td>\n",
       "      <td>427.327434</td>\n",
       "      <td>Sagittal T2/STIR</td>\n",
       "      <td>/kaggle/input/rsna-2024-lumbar-spine-degenerat...</td>\n",
       "      <td>True</td>\n",
       "      <td>True</td>\n",
       "      <td>True</td>\n",
       "    </tr>\n",
       "  </tbody>\n",
       "</table>\n",
       "</div>"
      ],
      "text/plain": [
       "   study_id              condition  level  severity  series_id  \\\n",
       "0   4003253  Spinal Canal Stenosis  L1/L2       0.0  702807833   \n",
       "1   4003253  Spinal Canal Stenosis  L2/L3       0.0  702807833   \n",
       "2   4003253  Spinal Canal Stenosis  L3/L4       0.0  702807833   \n",
       "3   4003253  Spinal Canal Stenosis  L4/L5       0.0  702807833   \n",
       "\n",
       "   instance_number           x           y series_description  \\\n",
       "0                8  322.831858  227.964602   Sagittal T2/STIR   \n",
       "1                8  320.571429  295.714286   Sagittal T2/STIR   \n",
       "2                8  323.030303  371.818182   Sagittal T2/STIR   \n",
       "3                8  335.292035  427.327434   Sagittal T2/STIR   \n",
       "\n",
       "                                          image_path  study_id_exists  \\\n",
       "0  /kaggle/input/rsna-2024-lumbar-spine-degenerat...             True   \n",
       "1  /kaggle/input/rsna-2024-lumbar-spine-degenerat...             True   \n",
       "2  /kaggle/input/rsna-2024-lumbar-spine-degenerat...             True   \n",
       "3  /kaggle/input/rsna-2024-lumbar-spine-degenerat...             True   \n",
       "\n",
       "   series_id_exists  image_exists  \n",
       "0              True          True  \n",
       "1              True          True  \n",
       "2              True          True  \n",
       "3              True          True  "
      ]
     },
     "execution_count": 11,
     "metadata": {},
     "output_type": "execute_result"
    }
   ],
   "source": [
    "import os\n",
    "\n",
    "# Define a function to check if a path exists\n",
    "def check_exists(path):\n",
    "    return os.path.exists(path)\n",
    "\n",
    "# Define a function to check if a study ID directory exists\n",
    "def check_study_id(row):\n",
    "    study_id = row['study_id']\n",
    "    path = f'{root}/train_images/{study_id}'\n",
    "    return check_exists(path)\n",
    "\n",
    "# Define a function to check if a series ID directory exists\n",
    "def check_series_id(row):\n",
    "    study_id = row['study_id']\n",
    "    series_id = row['series_id']\n",
    "    path = f'{root}/train_images/{study_id}/{series_id}'\n",
    "    return check_exists(path)\n",
    "\n",
    "# Define a function to check if an image file exists\n",
    "def check_image_exists(row):\n",
    "    image_path = row['image_path']\n",
    "    return check_exists(image_path)\n",
    "\n",
    "# Apply the functions to the train_data dataframe\n",
    "train['study_id_exists'] = train.apply(check_study_id, axis=1)\n",
    "train['series_id_exists'] = train.apply(check_series_id, axis=1)\n",
    "train['image_exists'] = train.apply(check_image_exists, axis=1)\n",
    "\n",
    "# Filter train_data\n",
    "train = train[(train['study_id_exists']) & (train['series_id_exists']) & (train['image_exists'])]\n",
    "train.head(4)"
   ]
  },
  {
   "cell_type": "code",
   "execution_count": 12,
   "id": "084bee16",
   "metadata": {
    "execution": {
     "iopub.execute_input": "2024-10-28T14:19:16.460496Z",
     "iopub.status.busy": "2024-10-28T14:19:16.460202Z",
     "iopub.status.idle": "2024-10-28T14:19:20.739725Z",
     "shell.execute_reply": "2024-10-28T14:19:20.738938Z"
    },
    "papermill": {
     "duration": 4.289857,
     "end_time": "2024-10-28T14:19:20.741986",
     "exception": false,
     "start_time": "2024-10-28T14:19:16.452129",
     "status": "completed"
    },
    "tags": []
   },
   "outputs": [],
   "source": [
    "# Dictionary to store grouped data\n",
    "grouped_data = {}\n",
    "\n",
    "# Loop through each row and build the dictionary for each unique (study_id, series_id, instance_number) combination\n",
    "for _, row in train.iterrows():\n",
    "    key = (row['study_id'], row['series_id'], row['instance_number'])\n",
    "    \n",
    "    # Initialize a new entry in the grouped_data dictionary if this key is not yet present\n",
    "    if key not in grouped_data:\n",
    "        grouped_data[key] = {\n",
    "            'study_id': row['study_id'],\n",
    "            'series_id': row['series_id'],\n",
    "            'instance_number': row['instance_number'],\n",
    "            'condition':row['condition'],\n",
    "            'conditions': {},\n",
    "            'series_description':row['series_description'],\n",
    "            'image_path':row['image_path']\n",
    "        }\n",
    "    \n",
    "    # Add the level-severity pair to the conditions dictionary for this key\n",
    "    grouped_data[key]['conditions'][row['level']] = row['severity']\n",
    "\n",
    "# Convert the grouped data dictionary to a DataFrame\n",
    "train_transformed = pd.DataFrame(grouped_data.values())\n",
    "\n",
    "# Display the transformed DataFrame\n",
    "train_transformed.head(2)\n",
    "train = train_transformed"
   ]
  },
  {
   "cell_type": "code",
   "execution_count": 13,
   "id": "7be527d8",
   "metadata": {
    "execution": {
     "iopub.execute_input": "2024-10-28T14:19:20.757882Z",
     "iopub.status.busy": "2024-10-28T14:19:20.757592Z",
     "iopub.status.idle": "2024-10-28T14:19:20.836269Z",
     "shell.execute_reply": "2024-10-28T14:19:20.834941Z"
    },
    "papermill": {
     "duration": 0.088754,
     "end_time": "2024-10-28T14:19:20.838302",
     "exception": false,
     "start_time": "2024-10-28T14:19:20.749548",
     "status": "completed"
    },
    "tags": []
   },
   "outputs": [
    {
     "name": "stdout",
     "output_type": "stream",
     "text": [
      "cuda\n"
     ]
    }
   ],
   "source": [
    "device = torch.device(\"cuda\" if torch.cuda.is_available() else \"cpu\")\n",
    "print(device)"
   ]
  },
  {
   "cell_type": "code",
   "execution_count": 14,
   "id": "505fa27a",
   "metadata": {
    "execution": {
     "iopub.execute_input": "2024-10-28T14:19:20.854328Z",
     "iopub.status.busy": "2024-10-28T14:19:20.854029Z",
     "iopub.status.idle": "2024-10-28T14:19:20.861639Z",
     "shell.execute_reply": "2024-10-28T14:19:20.860793Z"
    },
    "papermill": {
     "duration": 0.017696,
     "end_time": "2024-10-28T14:19:20.863539",
     "exception": false,
     "start_time": "2024-10-28T14:19:20.845843",
     "status": "completed"
    },
    "tags": []
   },
   "outputs": [],
   "source": [
    "class MRIData(Dataset):\n",
    "    def __init__(self, dataframe, transform=None):\n",
    "        self.dataframe = dataframe\n",
    "        self.transform = transform\n",
    "\n",
    "    def __len__(self):\n",
    "        return len(self.dataframe)\n",
    "\n",
    "    def __getitem__(self, index):\n",
    "        image_path = self.dataframe['image_path'][index]\n",
    "        image = load_dicom(image_path)  # Define this function to load your DICOM images\n",
    "        \n",
    "        # Convert the dictionary of conditions to a numpy vector\n",
    "        conditions_dict = self.dataframe['conditions'][index]\n",
    "        conditions_vector = self.conditions_to_vector(conditions_dict)\n",
    "        \n",
    "        # Optionally transform the image\n",
    "        if self.transform:\n",
    "            image = self.transform(image)\n",
    "\n",
    "        return image, conditions_vector\n",
    "\n",
    "    def conditions_to_vector(self, conditions_dict):\n",
    "        # Example: Convert dictionary values to a numpy array (you may want to adjust ordering)\n",
    "        levels = ['L1/L2', 'L2/L3', 'L3/L4', 'L4/L5', 'L5/S1']  # Adjust based on your data's levels\n",
    "        vector = np.array([conditions_dict.get(level, 0) for level in levels])\n",
    "        return vector"
   ]
  },
  {
   "cell_type": "code",
   "execution_count": 15,
   "id": "27b58531",
   "metadata": {
    "execution": {
     "iopub.execute_input": "2024-10-28T14:19:20.878915Z",
     "iopub.status.busy": "2024-10-28T14:19:20.878604Z",
     "iopub.status.idle": "2024-10-28T14:19:20.884766Z",
     "shell.execute_reply": "2024-10-28T14:19:20.883927Z"
    },
    "papermill": {
     "duration": 0.015859,
     "end_time": "2024-10-28T14:19:20.886581",
     "exception": false,
     "start_time": "2024-10-28T14:19:20.870722",
     "status": "completed"
    },
    "tags": []
   },
   "outputs": [],
   "source": [
    "# Function to create datasets and dataloaders for each series description\n",
    "def create_datasets_and_loaders(df, series_description, transform, batch_size=8):\n",
    "    filtered_df = df[df['series_description'] == series_description]\n",
    "    \n",
    "    train_df, val_df = train_test_split(filtered_df, test_size=0.2, random_state=42)\n",
    "    train_df = train_df.reset_index(drop=True)\n",
    "    val_df = val_df.reset_index(drop=True)\n",
    "\n",
    "    train_dataset = MRIData(train_df, transform)\n",
    "    val_dataset = MRIData(val_df, transform)\n",
    "\n",
    "    trainloader = DataLoader(train_dataset, batch_size=batch_size, shuffle=True)\n",
    "    valloader = DataLoader(val_dataset, batch_size=batch_size, shuffle=False)\n",
    "    \n",
    "    return trainloader, valloader, len(train_df), len(val_df)"
   ]
  },
  {
   "cell_type": "code",
   "execution_count": 16,
   "id": "5177df1d",
   "metadata": {
    "execution": {
     "iopub.execute_input": "2024-10-28T14:19:20.901926Z",
     "iopub.status.busy": "2024-10-28T14:19:20.901628Z",
     "iopub.status.idle": "2024-10-28T14:19:20.906812Z",
     "shell.execute_reply": "2024-10-28T14:19:20.905908Z"
    },
    "papermill": {
     "duration": 0.014877,
     "end_time": "2024-10-28T14:19:20.908592",
     "exception": false,
     "start_time": "2024-10-28T14:19:20.893715",
     "status": "completed"
    },
    "tags": []
   },
   "outputs": [],
   "source": [
    "def load_dicom(path):\n",
    "    dc = pydicom.dcmread(path)\n",
    "    data = dc.pixel_array\n",
    "    data = data - np.min(data)\n",
    "    if np.max(data) != 0:\n",
    "        data = data / np.max(data)\n",
    "    data = (data * 255).astype(np.uint8)\n",
    "    return data"
   ]
  },
  {
   "cell_type": "code",
   "execution_count": 17,
   "id": "d0778487",
   "metadata": {
    "execution": {
     "iopub.execute_input": "2024-10-28T14:19:20.924144Z",
     "iopub.status.busy": "2024-10-28T14:19:20.923832Z",
     "iopub.status.idle": "2024-10-28T14:19:20.928767Z",
     "shell.execute_reply": "2024-10-28T14:19:20.927938Z"
    },
    "papermill": {
     "duration": 0.014897,
     "end_time": "2024-10-28T14:19:20.930580",
     "exception": false,
     "start_time": "2024-10-28T14:19:20.915683",
     "status": "completed"
    },
    "tags": []
   },
   "outputs": [],
   "source": [
    "# Define the transforms\n",
    "transform = transforms.Compose([\n",
    "    transforms.Lambda(lambda x: (x * 255).astype(np.uint8)),  # Convert back to uint8 for PIL\n",
    "    transforms.ToPILImage(),\n",
    "    transforms.Resize((224, 224)),\n",
    "    transforms.Grayscale(num_output_channels=3),\n",
    "    transforms.ToTensor(),\n",
    "])"
   ]
  },
  {
   "cell_type": "code",
   "execution_count": 18,
   "id": "5f5566cc",
   "metadata": {
    "execution": {
     "iopub.execute_input": "2024-10-28T14:19:20.945990Z",
     "iopub.status.busy": "2024-10-28T14:19:20.945699Z",
     "iopub.status.idle": "2024-10-28T14:19:20.950450Z",
     "shell.execute_reply": "2024-10-28T14:19:20.949765Z"
    },
    "papermill": {
     "duration": 0.014491,
     "end_time": "2024-10-28T14:19:20.952204",
     "exception": false,
     "start_time": "2024-10-28T14:19:20.937713",
     "status": "completed"
    },
    "tags": []
   },
   "outputs": [],
   "source": [
    "criterion = nn.CrossEntropyLoss()"
   ]
  },
  {
   "cell_type": "code",
   "execution_count": 19,
   "id": "245314ed",
   "metadata": {
    "execution": {
     "iopub.execute_input": "2024-10-28T14:19:20.967675Z",
     "iopub.status.busy": "2024-10-28T14:19:20.967384Z",
     "iopub.status.idle": "2024-10-28T14:19:20.976076Z",
     "shell.execute_reply": "2024-10-28T14:19:20.975224Z"
    },
    "papermill": {
     "duration": 0.01836,
     "end_time": "2024-10-28T14:19:20.977912",
     "exception": false,
     "start_time": "2024-10-28T14:19:20.959552",
     "status": "completed"
    },
    "tags": []
   },
   "outputs": [],
   "source": [
    "class SpinalConditionCNN(nn.Module):\n",
    "    def __init__(self, num_levels=5):  # Assuming 3 classes per level (e.g., normal, mild, severe)\n",
    "        super(SpinalConditionCNN, self).__init__()\n",
    "        self.conv_layers = nn.Sequential(\n",
    "            nn.Conv2d(3, 32, kernel_size=3, stride=1, padding=1),\n",
    "            nn.ReLU(),\n",
    "            nn.MaxPool2d(kernel_size=2, stride=2),\n",
    "            nn.Conv2d(32, 64, kernel_size=3, stride=1, padding=1),\n",
    "            nn.ReLU(),\n",
    "            nn.MaxPool2d(kernel_size=2, stride=2),\n",
    "            nn.Conv2d(64, 128, kernel_size=3, stride=1, padding=1),\n",
    "            nn.ReLU(),\n",
    "            nn.MaxPool2d(kernel_size=2, stride=2)\n",
    "        )\n",
    "        self.fc_layers = nn.Sequential(\n",
    "            nn.Flatten(),\n",
    "            nn.Linear(128 * 28 * 28, 512),\n",
    "            nn.ReLU(),\n",
    "            nn.Dropout(0.5),\n",
    "            nn.Linear(512, num_levels)\n",
    "        )\n",
    "        \n",
    "        self.num_levels = num_levels\n",
    "\n",
    "\n",
    "    def forward(self, x):\n",
    "        x = self.conv_layers(x)\n",
    "        x = self.fc_layers(x)\n",
    "        x = x.view(-1, self.num_levels)  # Shape (batch_size, num_levels)\n",
    "        return x"
   ]
  },
  {
   "cell_type": "code",
   "execution_count": 20,
   "id": "530cd3c2",
   "metadata": {
    "execution": {
     "iopub.execute_input": "2024-10-28T14:19:20.993528Z",
     "iopub.status.busy": "2024-10-28T14:19:20.992988Z",
     "iopub.status.idle": "2024-10-28T14:19:21.008510Z",
     "shell.execute_reply": "2024-10-28T14:19:21.007676Z"
    },
    "papermill": {
     "duration": 0.025314,
     "end_time": "2024-10-28T14:19:21.010289",
     "exception": false,
     "start_time": "2024-10-28T14:19:20.984975",
     "status": "completed"
    },
    "tags": []
   },
   "outputs": [],
   "source": [
    "def train_model(model, trainloader, valloader, criterion, optimizer, num_epochs=100, device='cuda'):\n",
    "    model = model.to(device)\n",
    "    best_val_loss = float('inf')\n",
    "    train_losses = []\n",
    "    val_losses = []\n",
    "    train_accuracies = []\n",
    "    val_accuracies = []\n",
    "\n",
    "    for epoch in range(num_epochs):\n",
    "        model.train()\n",
    "        running_loss = 0.0\n",
    "        correct_train = 0\n",
    "        total_train = 0\n",
    "        for images, labels in trainloader:\n",
    "            images, labels = images.to(device), labels.to(device)\n",
    "            \n",
    "            # Forward pass\n",
    "            outputs = model(images)\n",
    "            loss = criterion(outputs.view(-1, model.num_levels), labels)\n",
    "\n",
    "            # Backward pass and optimization\n",
    "            optimizer.zero_grad()\n",
    "            loss.backward()\n",
    "            optimizer.step()\n",
    "            predicted,_  = torch.max(outputs, 1)\n",
    "            running_loss += loss.item() * images.size(0)\n",
    "            correct_train += (predicted == labels).sum().item()\n",
    "            total_train += labels.size(0)\n",
    "\n",
    "        # Calculate average loss for this epoch\n",
    "        epoch_loss = running_loss / len(trainloader.dataset)\n",
    "        train_losses.append(epoch_loss)\n",
    "        train_accuracy = correct_train / total_train\n",
    "        train_accuracies.append(train_accuracy)\n",
    "        \n",
    "        # Validation phase\n",
    "        model.eval()\n",
    "        val_loss = 0.0\n",
    "        correct_val = 0\n",
    "        total_val = 0\n",
    "        with torch.no_grad():\n",
    "            for images, labels in valloader:\n",
    "                images, labels = images.to(device), labels.to(device)\n",
    "                outputs = model(images)\n",
    "                loss = criterion(outputs.view(-1, model.num_levels), labels)\n",
    "                val_loss += loss.item() * images.size(0)\n",
    "                _, predicted = torch.max(outputs, 1)\n",
    "                correct_val += (predicted == labels).sum().item()\n",
    "                total_val += labels.size(0)\n",
    "\n",
    "        val_loss /= len(valloader.dataset)\n",
    "        val_losses.append(val_loss)\n",
    "        val_accuracy = correct_val / total_val\n",
    "        val_accuracies.append(val_accuracy)\n",
    "        \n",
    "        print(f'Epoch [{epoch+1}/{num_epochs}], Train Loss: {epoch_loss:.4f}, Train Acc: {train_accuracy:.4f}, Val Loss: {val_loss:.4f}, Val Acc: {val_accuracy:.4f}')\n",
    "        \n",
    "    # Plotting the loss and accuracy curves\n",
    "    epochs = range(1, num_epochs + 1)\n",
    "    plt.figure(figsize=(14, 5))\n",
    "\n",
    "    # Plot Loss\n",
    "    plt.subplot(1, 2, 1)\n",
    "    plt.plot(epochs, train_losses, 'bo-', label='Training Loss')\n",
    "    plt.plot(epochs, val_losses, 'ro-', label='Validation Loss')\n",
    "    plt.xlabel('Epoch')\n",
    "    plt.ylabel('Loss')\n",
    "    plt.title('Training and Validation Loss')\n",
    "    plt.legend()\n",
    "\n",
    "    # Plot Accuracy\n",
    "    plt.subplot(1, 2, 2)\n",
    "    plt.plot(epochs, train_accuracies, 'bo-', label='Training Accuracy')\n",
    "    plt.plot(epochs, val_accuracies, 'ro-', label='Validation Accuracy')\n",
    "    plt.xlabel('Epoch')\n",
    "    plt.ylabel('Accuracy')\n",
    "    plt.title('Training and Validation Accuracy')\n",
    "    plt.legend()\n",
    "\n",
    "    plt.tight_layout()\n",
    "    plt.show()\n",
    "        \n",
    "        # Save best model\n",
    "        \n",
    "\n",
    "    print('Training complete')\n",
    "    return model\n"
   ]
  },
  {
   "cell_type": "code",
   "execution_count": 21,
   "id": "bf73f302",
   "metadata": {
    "execution": {
     "iopub.execute_input": "2024-10-28T14:19:21.025581Z",
     "iopub.status.busy": "2024-10-28T14:19:21.025314Z",
     "iopub.status.idle": "2024-10-28T15:52:28.703479Z",
     "shell.execute_reply": "2024-10-28T15:52:28.702687Z"
    },
    "papermill": {
     "duration": 5587.688241,
     "end_time": "2024-10-28T15:52:28.705631",
     "exception": false,
     "start_time": "2024-10-28T14:19:21.017390",
     "status": "completed"
    },
    "tags": []
   },
   "outputs": [
    {
     "name": "stdout",
     "output_type": "stream",
     "text": [
      "Epoch [1/100], Train Loss: 1.0048, Train Acc: 0.0000, Val Loss: 0.7928, Val Acc: 0.0000\n",
      "Epoch [2/100], Train Loss: 0.9469, Train Acc: 0.0000, Val Loss: 0.7921, Val Acc: 0.0000\n",
      "Epoch [3/100], Train Loss: 0.9376, Train Acc: 0.0000, Val Loss: 0.8440, Val Acc: 0.0000\n",
      "Epoch [4/100], Train Loss: 0.9197, Train Acc: 0.0000, Val Loss: 0.7922, Val Acc: 0.0040\n",
      "Epoch [5/100], Train Loss: 0.9285, Train Acc: 0.0000, Val Loss: 0.7902, Val Acc: 0.0000\n",
      "Epoch [6/100], Train Loss: 0.9244, Train Acc: 0.0000, Val Loss: 0.7932, Val Acc: 0.0000\n",
      "Epoch [7/100], Train Loss: 0.9272, Train Acc: 0.0000, Val Loss: 0.7923, Val Acc: 0.0000\n",
      "Epoch [8/100], Train Loss: 0.9236, Train Acc: 0.0000, Val Loss: 0.7930, Val Acc: 0.0000\n",
      "Epoch [9/100], Train Loss: 0.9115, Train Acc: 0.0000, Val Loss: 0.8160, Val Acc: 0.0000\n",
      "Epoch [10/100], Train Loss: 0.9231, Train Acc: 0.0000, Val Loss: 0.7876, Val Acc: 0.0000\n",
      "Epoch [11/100], Train Loss: 0.9026, Train Acc: 0.0000, Val Loss: 0.7947, Val Acc: 0.0000\n",
      "Epoch [12/100], Train Loss: 0.8928, Train Acc: 0.0000, Val Loss: 0.7864, Val Acc: 0.0000\n",
      "Epoch [13/100], Train Loss: 0.8820, Train Acc: 0.0000, Val Loss: 0.7882, Val Acc: 0.0020\n",
      "Epoch [14/100], Train Loss: 0.8513, Train Acc: 0.0000, Val Loss: 0.7915, Val Acc: 0.0178\n",
      "Epoch [15/100], Train Loss: 0.7941, Train Acc: 0.0000, Val Loss: 0.8646, Val Acc: 0.0752\n",
      "Epoch [16/100], Train Loss: 0.7560, Train Acc: 0.0000, Val Loss: 0.8497, Val Acc: 0.0277\n",
      "Epoch [17/100], Train Loss: 0.7096, Train Acc: 0.0000, Val Loss: 0.8900, Val Acc: 0.0554\n",
      "Epoch [18/100], Train Loss: 0.6598, Train Acc: 0.0000, Val Loss: 0.9977, Val Acc: 0.0792\n",
      "Epoch [19/100], Train Loss: 0.6440, Train Acc: 0.0000, Val Loss: 0.8776, Val Acc: 0.0554\n",
      "Epoch [20/100], Train Loss: 0.6188, Train Acc: 0.0000, Val Loss: 0.9453, Val Acc: 0.0455\n",
      "Epoch [21/100], Train Loss: 0.5812, Train Acc: 0.0000, Val Loss: 0.9940, Val Acc: 0.0653\n",
      "Epoch [22/100], Train Loss: 0.5816, Train Acc: 0.0000, Val Loss: 0.9438, Val Acc: 0.0614\n",
      "Epoch [23/100], Train Loss: 0.5517, Train Acc: 0.0000, Val Loss: 0.9394, Val Acc: 0.0337\n",
      "Epoch [24/100], Train Loss: 0.5332, Train Acc: 0.0000, Val Loss: 1.0301, Val Acc: 0.0317\n",
      "Epoch [25/100], Train Loss: 0.5154, Train Acc: 0.0000, Val Loss: 0.9700, Val Acc: 0.1010\n",
      "Epoch [26/100], Train Loss: 0.5033, Train Acc: 0.0000, Val Loss: 1.0178, Val Acc: 0.0535\n",
      "Epoch [27/100], Train Loss: 0.4979, Train Acc: 0.0000, Val Loss: 1.0072, Val Acc: 0.0475\n",
      "Epoch [28/100], Train Loss: 0.4857, Train Acc: 0.0000, Val Loss: 1.0263, Val Acc: 0.0455\n",
      "Epoch [29/100], Train Loss: 0.4735, Train Acc: 0.0000, Val Loss: 1.0598, Val Acc: 0.0218\n",
      "Epoch [30/100], Train Loss: 0.4753, Train Acc: 0.0000, Val Loss: 1.2167, Val Acc: 0.0455\n",
      "Epoch [31/100], Train Loss: 0.4673, Train Acc: 0.0000, Val Loss: 1.1209, Val Acc: 0.0673\n",
      "Epoch [32/100], Train Loss: 0.4645, Train Acc: 0.0000, Val Loss: 1.1685, Val Acc: 0.0554\n",
      "Epoch [33/100], Train Loss: 0.4483, Train Acc: 0.0000, Val Loss: 1.2275, Val Acc: 0.0653\n",
      "Epoch [34/100], Train Loss: 0.4586, Train Acc: 0.0000, Val Loss: 1.0122, Val Acc: 0.0713\n",
      "Epoch [35/100], Train Loss: 0.4468, Train Acc: 0.0000, Val Loss: 1.0532, Val Acc: 0.0535\n",
      "Epoch [36/100], Train Loss: 0.4549, Train Acc: 0.0000, Val Loss: 1.1787, Val Acc: 0.1228\n",
      "Epoch [37/100], Train Loss: 0.4358, Train Acc: 0.0000, Val Loss: 1.2339, Val Acc: 0.0970\n",
      "Epoch [38/100], Train Loss: 0.4359, Train Acc: 0.0000, Val Loss: 1.1103, Val Acc: 0.0455\n",
      "Epoch [39/100], Train Loss: 0.4293, Train Acc: 0.0000, Val Loss: 1.2774, Val Acc: 0.0752\n",
      "Epoch [40/100], Train Loss: 0.4348, Train Acc: 0.0000, Val Loss: 1.1277, Val Acc: 0.0535\n",
      "Epoch [41/100], Train Loss: 0.4313, Train Acc: 0.0000, Val Loss: 1.1745, Val Acc: 0.0970\n",
      "Epoch [42/100], Train Loss: 0.4271, Train Acc: 0.0000, Val Loss: 1.1397, Val Acc: 0.0376\n",
      "Epoch [43/100], Train Loss: 0.4197, Train Acc: 0.0000, Val Loss: 1.1963, Val Acc: 0.0733\n",
      "Epoch [44/100], Train Loss: 0.4253, Train Acc: 0.0000, Val Loss: 1.2956, Val Acc: 0.0376\n",
      "Epoch [45/100], Train Loss: 0.4219, Train Acc: 0.0000, Val Loss: 1.2253, Val Acc: 0.0574\n",
      "Epoch [46/100], Train Loss: 0.4132, Train Acc: 0.0000, Val Loss: 1.2175, Val Acc: 0.0356\n",
      "Epoch [47/100], Train Loss: 0.4071, Train Acc: 0.0000, Val Loss: 1.2374, Val Acc: 0.0733\n",
      "Epoch [48/100], Train Loss: 0.4079, Train Acc: 0.0000, Val Loss: 1.2907, Val Acc: 0.0535\n",
      "Epoch [49/100], Train Loss: 0.4075, Train Acc: 0.0000, Val Loss: 1.3440, Val Acc: 0.0416\n",
      "Epoch [50/100], Train Loss: 0.4098, Train Acc: 0.0000, Val Loss: 1.2977, Val Acc: 0.0792\n",
      "Epoch [51/100], Train Loss: 0.4027, Train Acc: 0.0000, Val Loss: 1.3051, Val Acc: 0.0594\n",
      "Epoch [52/100], Train Loss: 0.4053, Train Acc: 0.0000, Val Loss: 1.2302, Val Acc: 0.0792\n",
      "Epoch [53/100], Train Loss: 0.4033, Train Acc: 0.0000, Val Loss: 1.1910, Val Acc: 0.1010\n",
      "Epoch [54/100], Train Loss: 0.4004, Train Acc: 0.0000, Val Loss: 1.4807, Val Acc: 0.0515\n",
      "Epoch [55/100], Train Loss: 0.3942, Train Acc: 0.0000, Val Loss: 1.4430, Val Acc: 0.0594\n",
      "Epoch [56/100], Train Loss: 0.3939, Train Acc: 0.0000, Val Loss: 1.1838, Val Acc: 0.0792\n",
      "Epoch [57/100], Train Loss: 0.3977, Train Acc: 0.0000, Val Loss: 1.1651, Val Acc: 0.0376\n",
      "Epoch [58/100], Train Loss: 0.3933, Train Acc: 0.0000, Val Loss: 1.2790, Val Acc: 0.0693\n",
      "Epoch [59/100], Train Loss: 0.3891, Train Acc: 0.0000, Val Loss: 1.4089, Val Acc: 0.0851\n",
      "Epoch [60/100], Train Loss: 0.3939, Train Acc: 0.0000, Val Loss: 1.3742, Val Acc: 0.0792\n",
      "Epoch [61/100], Train Loss: 0.3859, Train Acc: 0.0000, Val Loss: 1.4376, Val Acc: 0.0931\n",
      "Epoch [62/100], Train Loss: 0.3874, Train Acc: 0.0000, Val Loss: 1.4711, Val Acc: 0.0535\n",
      "Epoch [63/100], Train Loss: 0.3856, Train Acc: 0.0000, Val Loss: 1.4639, Val Acc: 0.0752\n",
      "Epoch [64/100], Train Loss: 0.3845, Train Acc: 0.0000, Val Loss: 1.4122, Val Acc: 0.0653\n",
      "Epoch [65/100], Train Loss: 0.3921, Train Acc: 0.0000, Val Loss: 1.3503, Val Acc: 0.0535\n",
      "Epoch [66/100], Train Loss: 0.3890, Train Acc: 0.0000, Val Loss: 1.3976, Val Acc: 0.0733\n",
      "Epoch [67/100], Train Loss: 0.3844, Train Acc: 0.0000, Val Loss: 1.3071, Val Acc: 0.0733\n",
      "Epoch [68/100], Train Loss: 0.3785, Train Acc: 0.0000, Val Loss: 1.4817, Val Acc: 0.0752\n",
      "Epoch [69/100], Train Loss: 0.3834, Train Acc: 0.0000, Val Loss: 1.4891, Val Acc: 0.0475\n",
      "Epoch [70/100], Train Loss: 0.3792, Train Acc: 0.0000, Val Loss: 1.4921, Val Acc: 0.0356\n",
      "Epoch [71/100], Train Loss: 0.3790, Train Acc: 0.0000, Val Loss: 1.5534, Val Acc: 0.0535\n",
      "Epoch [72/100], Train Loss: 0.3797, Train Acc: 0.0000, Val Loss: 1.4602, Val Acc: 0.0891\n",
      "Epoch [73/100], Train Loss: 0.3755, Train Acc: 0.0000, Val Loss: 1.4797, Val Acc: 0.0515\n",
      "Epoch [74/100], Train Loss: 0.3759, Train Acc: 0.0000, Val Loss: 1.6506, Val Acc: 0.0713\n",
      "Epoch [75/100], Train Loss: 0.3756, Train Acc: 0.0000, Val Loss: 1.4723, Val Acc: 0.0851\n",
      "Epoch [76/100], Train Loss: 0.3803, Train Acc: 0.0000, Val Loss: 1.7390, Val Acc: 0.0574\n",
      "Epoch [77/100], Train Loss: 0.3829, Train Acc: 0.0000, Val Loss: 1.2801, Val Acc: 0.0792\n",
      "Epoch [78/100], Train Loss: 0.3753, Train Acc: 0.0000, Val Loss: 1.3855, Val Acc: 0.0515\n",
      "Epoch [79/100], Train Loss: 0.3784, Train Acc: 0.0000, Val Loss: 1.5624, Val Acc: 0.0752\n",
      "Epoch [80/100], Train Loss: 0.3835, Train Acc: 0.0000, Val Loss: 1.8231, Val Acc: 0.0772\n",
      "Epoch [81/100], Train Loss: 0.3721, Train Acc: 0.0000, Val Loss: 1.7836, Val Acc: 0.0574\n",
      "Epoch [82/100], Train Loss: 0.3766, Train Acc: 0.0000, Val Loss: 1.7381, Val Acc: 0.0574\n",
      "Epoch [83/100], Train Loss: 0.3746, Train Acc: 0.0000, Val Loss: 1.9139, Val Acc: 0.0673\n",
      "Epoch [84/100], Train Loss: 0.3736, Train Acc: 0.0000, Val Loss: 1.4994, Val Acc: 0.0535\n",
      "Epoch [85/100], Train Loss: 0.3719, Train Acc: 0.0000, Val Loss: 1.7493, Val Acc: 0.1129\n",
      "Epoch [86/100], Train Loss: 0.3737, Train Acc: 0.0000, Val Loss: 1.6755, Val Acc: 0.0554\n",
      "Epoch [87/100], Train Loss: 0.3734, Train Acc: 0.0000, Val Loss: 1.4992, Val Acc: 0.0376\n",
      "Epoch [88/100], Train Loss: 0.3762, Train Acc: 0.0000, Val Loss: 1.3756, Val Acc: 0.0574\n",
      "Epoch [89/100], Train Loss: 0.3748, Train Acc: 0.0000, Val Loss: 1.4982, Val Acc: 0.0772\n",
      "Epoch [90/100], Train Loss: 0.3712, Train Acc: 0.0000, Val Loss: 1.5909, Val Acc: 0.0733\n",
      "Epoch [91/100], Train Loss: 0.3692, Train Acc: 0.0000, Val Loss: 1.7737, Val Acc: 0.0574\n",
      "Epoch [92/100], Train Loss: 0.3691, Train Acc: 0.0000, Val Loss: 1.7773, Val Acc: 0.0713\n",
      "Epoch [93/100], Train Loss: 0.3723, Train Acc: 0.0000, Val Loss: 1.7557, Val Acc: 0.0812\n",
      "Epoch [94/100], Train Loss: 0.3699, Train Acc: 0.0000, Val Loss: 1.6759, Val Acc: 0.0653\n",
      "Epoch [95/100], Train Loss: 0.3787, Train Acc: 0.0000, Val Loss: 1.7350, Val Acc: 0.0614\n",
      "Epoch [96/100], Train Loss: 0.3700, Train Acc: 0.0000, Val Loss: 1.6705, Val Acc: 0.0990\n",
      "Epoch [97/100], Train Loss: 0.3690, Train Acc: 0.0000, Val Loss: 2.0457, Val Acc: 0.0832\n",
      "Epoch [98/100], Train Loss: 0.3677, Train Acc: 0.0000, Val Loss: 1.5630, Val Acc: 0.0950\n",
      "Epoch [99/100], Train Loss: 0.3687, Train Acc: 0.0000, Val Loss: 1.8060, Val Acc: 0.0634\n",
      "Epoch [100/100], Train Loss: 0.3675, Train Acc: 0.0000, Val Loss: 1.9724, Val Acc: 0.0792\n"
     ]
    },
    {
     "data": {
      "image/png": "[encoded data removed]",
      "text/plain": [
       "<Figure size 1400x500 with 2 Axes>"
      ]
     },
     "metadata": {},
     "output_type": "display_data"
    },
    {
     "name": "stdout",
     "output_type": "stream",
     "text": [
      "Training complete\n"
     ]
    }
   ],
   "source": [
    "# Assuming df is your dataframe with transformed conditions\n",
    "trainloader, valloader, _, _ = create_datasets_and_loaders(train, series_description='Sagittal T2/STIR', transform=transform, batch_size=5)\n",
    "# Initialize model, loss, and optimizer\n",
    "model = SpinalConditionCNN(num_levels=5)  # Adjust num_classes based on the severity levels in your data\n",
    "criterion = nn.CrossEntropyLoss()  # Assuming conditions are categorical with class labels for severity\n",
    "optimizer = optim.Adam(model.parameters(), lr=0.001)\n",
    "# Train the model\n",
    "trained_model = train_model(model, trainloader, valloader, criterion, optimizer, num_epochs=100, device='cuda' if torch.cuda.is_available() else 'cpu')\n",
    "torch.save(trained_model.state_dict(),'Sagittal_T2_STIR.pth')"
   ]
  },
  {
   "cell_type": "code",
   "execution_count": 22,
   "id": "638a77ef",
   "metadata": {
    "execution": {
     "iopub.execute_input": "2024-10-28T15:52:28.739300Z",
     "iopub.status.busy": "2024-10-28T15:52:28.738995Z",
     "iopub.status.idle": "2024-10-28T15:58:02.951959Z",
     "shell.execute_reply": "2024-10-28T15:58:02.950599Z"
    },
    "papermill": {
     "duration": 334.247209,
     "end_time": "2024-10-28T15:58:02.969085",
     "exception": true,
     "start_time": "2024-10-28T15:52:28.721876",
     "status": "failed"
    },
    "tags": []
   },
   "outputs": [
    {
     "ename": "RuntimeError",
     "evalue": "The size of tensor a (3) must match the size of tensor b (5) at non-singleton dimension 1",
     "output_type": "error",
     "traceback": [
      "\u001b[0;31m---------------------------------------------------------------------------\u001b[0m",
      "\u001b[0;31mRuntimeError\u001b[0m                              Traceback (most recent call last)",
      "Cell \u001b[0;32mIn[22], line 8\u001b[0m\n\u001b[1;32m      6\u001b[0m optimizer \u001b[38;5;241m=\u001b[39m optim\u001b[38;5;241m.\u001b[39mAdam(model\u001b[38;5;241m.\u001b[39mparameters(), lr\u001b[38;5;241m=\u001b[39m\u001b[38;5;241m0.001\u001b[39m)\n\u001b[1;32m      7\u001b[0m \u001b[38;5;66;03m# Train the model\u001b[39;00m\n\u001b[0;32m----> 8\u001b[0m trained_model \u001b[38;5;241m=\u001b[39m \u001b[43mtrain_model\u001b[49m\u001b[43m(\u001b[49m\u001b[43mmodel\u001b[49m\u001b[43m,\u001b[49m\u001b[43m \u001b[49m\u001b[43mtrainloader_ax\u001b[49m\u001b[43m,\u001b[49m\u001b[43m \u001b[49m\u001b[43mvalloader_ax\u001b[49m\u001b[43m,\u001b[49m\u001b[43m \u001b[49m\u001b[43mcriterion\u001b[49m\u001b[43m,\u001b[49m\u001b[43m \u001b[49m\u001b[43moptimizer\u001b[49m\u001b[43m,\u001b[49m\u001b[43m \u001b[49m\u001b[43mnum_epochs\u001b[49m\u001b[38;5;241;43m=\u001b[39;49m\u001b[38;5;241;43m100\u001b[39;49m\u001b[43m,\u001b[49m\u001b[43m \u001b[49m\u001b[43mdevice\u001b[49m\u001b[38;5;241;43m=\u001b[39;49m\u001b[38;5;124;43m'\u001b[39;49m\u001b[38;5;124;43mcuda\u001b[39;49m\u001b[38;5;124;43m'\u001b[39;49m\u001b[43m \u001b[49m\u001b[38;5;28;43;01mif\u001b[39;49;00m\u001b[43m \u001b[49m\u001b[43mtorch\u001b[49m\u001b[38;5;241;43m.\u001b[39;49m\u001b[43mcuda\u001b[49m\u001b[38;5;241;43m.\u001b[39;49m\u001b[43mis_available\u001b[49m\u001b[43m(\u001b[49m\u001b[43m)\u001b[49m\u001b[43m \u001b[49m\u001b[38;5;28;43;01melse\u001b[39;49;00m\u001b[43m \u001b[49m\u001b[38;5;124;43m'\u001b[39;49m\u001b[38;5;124;43mcpu\u001b[39;49m\u001b[38;5;124;43m'\u001b[39;49m\u001b[43m)\u001b[49m\n\u001b[1;32m      9\u001b[0m torch\u001b[38;5;241m.\u001b[39msave(trained_model\u001b[38;5;241m.\u001b[39mstate_dict(),\u001b[38;5;124m'\u001b[39m\u001b[38;5;124mAxial_T2.pth\u001b[39m\u001b[38;5;124m'\u001b[39m)\n",
      "Cell \u001b[0;32mIn[20], line 48\u001b[0m, in \u001b[0;36mtrain_model\u001b[0;34m(model, trainloader, valloader, criterion, optimizer, num_epochs, device)\u001b[0m\n\u001b[1;32m     46\u001b[0m         val_loss \u001b[38;5;241m+\u001b[39m\u001b[38;5;241m=\u001b[39m loss\u001b[38;5;241m.\u001b[39mitem() \u001b[38;5;241m*\u001b[39m images\u001b[38;5;241m.\u001b[39msize(\u001b[38;5;241m0\u001b[39m)\n\u001b[1;32m     47\u001b[0m         _, predicted \u001b[38;5;241m=\u001b[39m torch\u001b[38;5;241m.\u001b[39mmax(outputs, \u001b[38;5;241m1\u001b[39m)\n\u001b[0;32m---> 48\u001b[0m         correct_val \u001b[38;5;241m+\u001b[39m\u001b[38;5;241m=\u001b[39m (\u001b[43mpredicted\u001b[49m\u001b[43m \u001b[49m\u001b[38;5;241;43m==\u001b[39;49m\u001b[43m \u001b[49m\u001b[43mlabels\u001b[49m)\u001b[38;5;241m.\u001b[39msum()\u001b[38;5;241m.\u001b[39mitem()\n\u001b[1;32m     49\u001b[0m         total_val \u001b[38;5;241m+\u001b[39m\u001b[38;5;241m=\u001b[39m labels\u001b[38;5;241m.\u001b[39msize(\u001b[38;5;241m0\u001b[39m)\n\u001b[1;32m     51\u001b[0m val_loss \u001b[38;5;241m/\u001b[39m\u001b[38;5;241m=\u001b[39m \u001b[38;5;28mlen\u001b[39m(valloader\u001b[38;5;241m.\u001b[39mdataset)\n",
      "\u001b[0;31mRuntimeError\u001b[0m: The size of tensor a (3) must match the size of tensor b (5) at non-singleton dimension 1"
     ]
    }
   ],
   "source": [
    "# Assuming df is your dataframe with transformed conditions\n",
    "trainloader_ax, valloader_ax, _, _ = create_datasets_and_loaders(train, series_description='Axial T2', transform=transform, batch_size=5)\n",
    "# Initialize model, loss, and optimizer\n",
    "model = SpinalConditionCNN(num_levels=5)  # Adjust num_classes based on the severity levels in your data\n",
    "criterion = nn.CrossEntropyLoss()  # Assuming conditions are categorical with class labels for severity\n",
    "optimizer = optim.Adam(model.parameters(), lr=0.001)\n",
    "# Train the model\n",
    "trained_model = train_model(model, trainloader_ax, valloader_ax, criterion, optimizer, num_epochs=100, device='cuda' if torch.cuda.is_available() else 'cpu')\n",
    "torch.save(trained_model.state_dict(),'Axial_T2.pth')"
   ]
  },
  {
   "cell_type": "code",
   "execution_count": null,
   "id": "911454eb",
   "metadata": {
    "papermill": {
     "duration": null,
     "end_time": null,
     "exception": null,
     "start_time": null,
     "status": "pending"
    },
    "tags": []
   },
   "outputs": [],
   "source": [
    "# Assuming df is your dataframe with transformed conditions\n",
    "trainloader_t1, valloader_t1, _, _ = create_datasets_and_loaders(train, series_description='Sagittal T1', transform=transform, batch_size=5)\n",
    "# Initialize model, loss, and optimizer\n",
    "model = SpinalConditionCNN(num_levels=5)  # Adjust num_classes based on the severity levels in your data\n",
    "criterion = nn.CrossEntropyLoss()  # Assuming conditions are categorical with class labels for severity\n",
    "optimizer = optim.Adam(model.parameters(), lr=0.001)\n",
    "# Train the model\n",
    "trained_model = train_model(model, trainloader_t1, valloader_t1, criterion, optimizer, num_epochs=100, device='cuda' if torch.cuda.is_available() else 'cpu')\n",
    "torch.save(trained_model.state_dict(),'Sagittal_T1.pth')"
   ]
  }
 ],
 "metadata": {
  "kaggle": {
   "accelerator": "nvidiaTeslaT4",
   "dataSources": [
    {
     "databundleVersionId": 8561470,
     "sourceId": 71549,
     "sourceType": "competition"
    }
   ],
   "dockerImageVersionId": 30786,
   "isGpuEnabled": true,
   "isInternetEnabled": true,
   "language": "python",
   "sourceType": "notebook"
  },
  "kernelspec": {
   "display_name": "Python 3",
   "language": "python",
   "name": "python3"
  },
  "language_info": {
   "codemirror_mode": {
    "name": "ipython",
    "version": 3
   },
   "file_extension": ".py",
   "mimetype": "text/x-python",
   "name": "python",
   "nbconvert_exporter": "python",
   "pygments_lexer": "ipython3",
   "version": "3.10.14"
  },
  "papermill": {
   "default_parameters": {},
   "duration": 5999.360483,
   "end_time": "2024-10-28T15:58:04.506965",
   "environment_variables": {},
   "exception": true,
   "input_path": "__notebook__.ipynb",
   "output_path": "__notebook__.ipynb",
   "parameters": {},
   "start_time": "2024-10-28T14:18:05.146482",
   "version": "2.6.0"
  }
 },
 "nbformat": 4,
 "nbformat_minor": 5
}
